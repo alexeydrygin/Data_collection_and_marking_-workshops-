{
 "cells": [
  {
   "cell_type": "markdown",
   "metadata": {},
   "source": [
    "![](\\images\\1.png \"image-1\")  \n",
    "![](\\images\\2.png \"image-2\")"
   ]
  },
  {
   "cell_type": "code",
   "execution_count": 18,
   "metadata": {},
   "outputs": [
    {
     "name": "stdout",
     "output_type": "stream",
     "text": [
      "Название: Art Coffee, Адрес: Ленина Пр., 45, Рейтинг: Рейтинг не указан\n",
      "Название: Кафе Art coffee, Адрес: Октябрьская, 149, Рейтинг: Рейтинг не указан\n",
      "Название: Plaisir de Chocolat, Адрес: Рубцовский Пр., 38а, Рейтинг: Рейтинг не указан\n",
      "Название: Арткафе, Адрес: Октябрьская 149, Рейтинг: Рейтинг не указан\n"
     ]
    }
   ],
   "source": [
    "\n",
    "import requests\n",
    "import os\n",
    "\n",
    "# Функция для поиска мест по категории и городу\n",
    "def search_places_by_category_and_city(category, city):\n",
    "    url = \"https://api.foursquare.com/v3/places/search\"\n",
    "    headers = {\n",
    "        \"Accept\": \"application/json\",\n",
    "        \"Authorization\": os.getenv(\"ADDITIONAL_API_KEY\")\n",
    "    }\n",
    "    params = {\n",
    "        \"query\": category,\n",
    "        \"near\": city,\n",
    "        \"limit\": 10\n",
    "    }\n",
    "\n",
    "    response = requests.get(url, headers=headers, params=params)\n",
    "\n",
    "    if response.status_code == 200:\n",
    "        places = response.json().get(\"results\", [])\n",
    "        if places:\n",
    "            for place in places:\n",
    "                name = place.get(\"name\")\n",
    "                location = place.get(\"location\", {})\n",
    "                address = location.get(\"address\", \"Адрес не указан\")\n",
    "                rating = place.get(\"rating\", \"Рейтинг не указан\")\n",
    "                print(f\"Название: {name}, Адрес: {address}, Рейтинг: {rating}\")\n",
    "        else:\n",
    "            print(\"По вашему запросу заведения не найдены.\")\n",
    "    else:\n",
    "        print(f\"Произошла ошибка при обращении к API. Код ошибки: {response.status_code}\")\n",
    "\n",
    "\n",
    "# Пример использования функции\n",
    "category = \"Food\"\n",
    "city = \"Rubtsovsk\"\n",
    "search_places_by_category_and_city(category, city)"
   ]
  }
 ],
 "metadata": {
  "kernelspec": {
   "display_name": "Python 3",
   "language": "python",
   "name": "python3"
  },
  "language_info": {
   "codemirror_mode": {
    "name": "ipython",
    "version": 3
   },
   "file_extension": ".py",
   "mimetype": "text/x-python",
   "name": "python",
   "nbconvert_exporter": "python",
   "pygments_lexer": "ipython3",
   "version": "3.12.3"
  }
 },
 "nbformat": 4,
 "nbformat_minor": 2
}
