{
 "cells": [
  {
   "cell_type": "markdown",
   "metadata": {},
   "source": [
    "Для выполнения задачи скрейпинга данных с веб-сайта http://books.toscrape.com/ и сохранения информации о книгах в JSON-файл"
   ]
  },
  {
   "cell_type": "code",
   "execution_count": 11,
   "metadata": {},
   "outputs": [
    {
     "name": "stderr",
     "output_type": "stream",
     "text": [
      "Обработка категорий: 100%|██████████| 50/50 [00:38<00:00,  1.28it/s]"
     ]
    },
    {
     "name": "stdout",
     "output_type": "stream",
     "text": [
      "Данные успешно сохранены в файл books_data.json. Добавлено книг: 517\n"
     ]
    },
    {
     "name": "stderr",
     "output_type": "stream",
     "text": [
      "\n"
     ]
    }
   ],
   "source": [
    "# Импорт необходимых модулей\n",
    "import requests\n",
    "from bs4 import BeautifulSoup\n",
    "import json\n",
    "from tqdm import tqdm\n",
    "\n",
    "# Функция для скрейпинга данных с сайта\n",
    "def scrape_books_data():\n",
    "    # Базовый URL сайта\n",
    "    base_url = \"http://books.toscrape.com/\"\n",
    "    # Список для хранения данных о книгах\n",
    "    books_data = []\n",
    "    # Счетчик добавленных книг\n",
    "    books_added = 0\n",
    "\n",
    "    # URL для получения списка всех категорий\n",
    "    categories_url = base_url + \"index.html\"\n",
    "    # Отправка GET-запроса на страницу категорий\n",
    "    categories_response = requests.get(categories_url)\n",
    "    # Парсинг HTML-страницы с помощью BeautifulSoup\n",
    "    categories_soup = BeautifulSoup(categories_response.text, 'html.parser')\n",
    "    # Выборка всех ссылок на категории\n",
    "    categories = categories_soup.select('.nav-list > li > ul > li > a')\n",
    "\n",
    "    # Цикл по всем категориям\n",
    "    for category in tqdm(categories, desc=\"Обработка категорий\"):\n",
    "        # Получение URL для каждой категории\n",
    "        category_url = base_url + category['href']\n",
    "        # Отправка GET-запроса на страницу каждой категории\n",
    "        category_response = requests.get(category_url)\n",
    "        # Парсинг HTML-страницы с помощью BeautifulSoup\n",
    "        category_soup = BeautifulSoup(category_response.text, 'html.parser')\n",
    "\n",
    "        # Выборка всех элементов с информацией о книгах в текущей категории\n",
    "        books = category_soup.select('.product_pod')\n",
    "        # Цикл по всем книгам в текущей категории\n",
    "        for book in tqdm(books, desc=\"Обработка книг\", leave=False):\n",
    "            # Извлечение названия книги\n",
    "            title = book.select_one('.product_pod h3 a').text\n",
    "            # Извлечение цены книги\n",
    "            price = book.select_one('.price_color').text\n",
    "            # Извлечение количества книг в наличии и преобразование в integer\n",
    "            availability_text = book.select_one('.availability').text\n",
    "            # Проверка, что текст содержит числовое значение\n",
    "            if availability_text.isdigit():\n",
    "                stock = int(availability_text)\n",
    "            else:\n",
    "                # Обработка случая, когда текст не содержит числового значения\n",
    "                stock = 0 # или любое другое значение по умолчанию\n",
    "            # Извлечение описания книги\n",
    "            description_element = book.select_one('.product_description')\n",
    "            if description_element is not None:\n",
    "                description = description_element.text.strip()\n",
    "            else:\n",
    "                description = \"Описание отсутствует\" # или любое другое значение по умолчанию\n",
    "\n",
    "            # Добавление информации о книге в список\n",
    "            books_data.append({\n",
    "                'title': title,\n",
    "                'price': price,\n",
    "                'stock': stock,\n",
    "                'description': description\n",
    "            })\n",
    "            # Увеличение счетчика добавленных книг\n",
    "            books_added += 1\n",
    "\n",
    "    # Возвращение списка с данными о книгах и счетчика добавленных книг\n",
    "    return books_data, books_added\n",
    "\n",
    "# Вызов функции для скрейпинга данных и сохранение результата в JSON-файл\n",
    "books_data, books_added = scrape_books_data()\n",
    "\n",
    "# Открытие файла для записи данных в формате JSON\n",
    "with open('books_data.json', 'w', encoding='utf-8') as f:\n",
    "    # Запись данных о книгах в файл в формате JSON\n",
    "    json.dump(books_data, f, ensure_ascii=False, indent=4)\n",
    "\n",
    "# Вывод сообщения о успешном сохранении данных и общем количестве добавленных книг\n",
    "print(f\"Данные успешно сохранены в файл books_data.json. Добавлено книг: {books_added}\")\n"
   ]
  },
  {
   "cell_type": "markdown",
   "metadata": {},
   "source": [
    "Этот код сначала получает список всех категорий книг на сайте, затем для каждой категории извлекает информацию о книгах, включая название, цену, количество товара в наличии и описание. Затем он сохраняет эту информацию в JSON-файл books_data.json."
   ]
  }
 ],
 "metadata": {
  "kernelspec": {
   "display_name": "Python 3",
   "language": "python",
   "name": "python3"
  },
  "language_info": {
   "codemirror_mode": {
    "name": "ipython",
    "version": 3
   },
   "file_extension": ".py",
   "mimetype": "text/x-python",
   "name": "python",
   "nbconvert_exporter": "python",
   "pygments_lexer": "ipython3",
   "version": "3.12.3"
  }
 },
 "nbformat": 4,
 "nbformat_minor": 2
}
